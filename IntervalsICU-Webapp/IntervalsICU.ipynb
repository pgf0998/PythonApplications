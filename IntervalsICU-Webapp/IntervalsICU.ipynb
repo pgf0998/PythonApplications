{
 "cells": [
  {
   "cell_type": "code",
   "execution_count": 1,
   "id": "ed113c11",
   "metadata": {},
   "outputs": [
    {
     "name": "stderr",
     "output_type": "stream",
     "text": [
      "/Users/avomref/Library/Python/3.9/lib/python/site-packages/urllib3/__init__.py:35: NotOpenSSLWarning: urllib3 v2 only supports OpenSSL 1.1.1+, currently the 'ssl' module is compiled with 'LibreSSL 2.8.3'. See: https://github.com/urllib3/urllib3/issues/3020\n",
      "  warnings.warn(\n"
     ]
    },
    {
     "name": "stdout",
     "output_type": "stream",
     "text": [
      "✔️ data.json updated.\n"
     ]
    }
   ],
   "source": [
    "from dotenv import load_dotenv\n",
    "import os\n",
    "import requests\n",
    "import base64\n",
    "from datetime import datetime\n",
    "import json\n",
    "\n",
    "def get_Activities():\n",
    "    url = \"https://intervals.icu/api/v1/athlete/0/activities?oldest=2020-12-01&newest=2025-12-31\"\n",
    "    \n",
    "    load_dotenv('APIKEY2.env')\n",
    "    username = os.getenv(\"USERNAME\")\n",
    "    password = os.getenv(\"PASSWORD\")\n",
    "    \n",
    "    if not username or not password:\n",
    "        print(\"Missing credentials.\")\n",
    "        return None\n",
    "\n",
    "    credentials = base64.b64encode(f\"{username}:{password}\".encode()).decode()\n",
    "    \n",
    "    headers = {\n",
    "        \"Authorization\": f\"Basic {credentials}\",\n",
    "        \"Accept\": \"application/json\"\n",
    "    }\n",
    "    \n",
    "    response = requests.get(url, headers=headers)\n",
    "    \n",
    "    if response.status_code == 200:\n",
    "        return response.json()\n",
    "    else:\n",
    "        print(f\"Error: {response.status_code}\")\n",
    "        return None\n",
    "\n",
    "activities = get_Activities()\n",
    "\n",
    "if activities:\n",
    "    today = datetime.now().date()\n",
    "    total_today_km = 0.0\n",
    "\n",
    "    for activity in activities:\n",
    "        try:\n",
    "            activity_date = datetime.fromisoformat(activity['start_date_local'].replace('Z', '+00:00')).date()\n",
    "            if activity_date == today and activity.get('distance'):\n",
    "                total_today_km += activity['distance'] / 1000  # meters to km\n",
    "        except Exception as e:\n",
    "            print(f\"Error: {e}\")\n",
    "\n",
    "    rode_today = total_today_km > 0\n",
    "\n",
    "    # Save to data.json\n",
    "    output = {\n",
    "        \"rode_today\": rode_today,\n",
    "        \"distance_km\": round(total_today_km, 2)\n",
    "    }\n",
    "\n",
    "    with open(\"data.json\", \"w\") as f:\n",
    "        json.dump(output, f)\n",
    "\n",
    "    print(\"✔️ data.json updated.\")\n",
    "else:\n",
    "    print(\"❌ Could not get activities.\")"
   ]
  }
 ],
 "metadata": {
  "kernelspec": {
   "display_name": "Python 3",
   "language": "python",
   "name": "python3"
  },
  "language_info": {
   "codemirror_mode": {
    "name": "ipython",
    "version": 3
   },
   "file_extension": ".py",
   "mimetype": "text/x-python",
   "name": "python",
   "nbconvert_exporter": "python",
   "pygments_lexer": "ipython3",
   "version": "3.9.6"
  }
 },
 "nbformat": 4,
 "nbformat_minor": 5
}
