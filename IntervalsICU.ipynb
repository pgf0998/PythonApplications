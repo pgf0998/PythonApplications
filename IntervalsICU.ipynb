{
 "cells": [
  {
   "cell_type": "code",
   "execution_count": 1,
   "id": "813aee00",
   "metadata": {},
   "outputs": [
    {
     "name": "stderr",
     "output_type": "stream",
     "text": [
      "/Users/avomref/Library/Python/3.9/lib/python/site-packages/urllib3/__init__.py:35: NotOpenSSLWarning: urllib3 v2 only supports OpenSSL 1.1.1+, currently the 'ssl' module is compiled with 'LibreSSL 2.8.3'. See: https://github.com/urllib3/urllib3/issues/3020\n",
      "  warnings.warn(\n"
     ]
    },
    {
     "name": "stdout",
     "output_type": "stream",
     "text": [
      "Yearly Cycling Distances:\n",
      "-----------------------\n",
      "2024: 2903.67 km\n",
      "2025: 864.68 km\n",
      "-----------------------\n",
      "Total Distance: 3768.35 km\n"
     ]
    }
   ],
   "source": [
    "from dotenv import load_dotenv\n",
    "import os\n",
    "import requests\n",
    "import base64\n",
    "from collections import defaultdict\n",
    "from datetime import datetime\n",
    "\n",
    "\n",
    "#This is a function to setup a connection to the Intervals.icu API and retrieve activities.\n",
    "def get_Activities():\n",
    "    url = \"https://intervals.icu/api/v1/athlete/0/activities?oldest=2020-12-01&newest=2025-12-31\"\n",
    "    \n",
    "    load_dotenv('APIKEY.env')\n",
    "    # Basic auth credentials\n",
    "    username = os.getenv(\"USERNAME\")\n",
    "    password = os.getenv(\"PASSWORD\")\n",
    "    \n",
    "    if not username or not password:\n",
    "        print(\"Failed to load credentials. Check if APIKEY.env exists and contains USERNAME and PASSWORD\")\n",
    "        return None\n",
    "\n",
    "    \n",
    "    \n",
    "    # Create basic auth string and encode it\n",
    "    credentials = base64.b64encode(f\"{username}:{password}\".encode()).decode()\n",
    "    \n",
    "    headers = {\n",
    "        \"Authorization\": f\"Basic {credentials}\",\n",
    "        \"Accept\": \"application/json\"\n",
    "    }\n",
    "    \n",
    "    #this gets the response\n",
    "    response = requests.get(url, headers=headers)\n",
    "    \n",
    "    if response.status_code == 200:\n",
    "        return response.json()\n",
    "    else:\n",
    "        print(f\"Error: {response.status_code}\")\n",
    "        print(response.text)\n",
    "        return None\n",
    "    \n",
    "activities = get_Activities()\n",
    "if activities:\n",
    "    # Initialize a defaultdict to store yearly distances\n",
    "    yearly_distances = defaultdict(float)\n",
    "    \n",
    "    for activity in activities:\n",
    "        try:\n",
    "            # Extract year from the activity date\n",
    "            activity_date = datetime.fromisoformat(activity['start_date_local'].replace('Z', '+00:00'))\n",
    "            year = activity_date.year\n",
    "            \n",
    "            # Add distance to yearly total (convert to kilometers if needed)\n",
    "            if 'distance' in activity and activity['distance'] is not None:\n",
    "                yearly_distances[year] += activity['distance'] / 1000\n",
    "        except KeyError as e:\n",
    "            print(f\"Missing field in activity: {e}\")\n",
    "        except Exception as e:\n",
    "            print(f\"Error processing activity: {e}\")\n",
    "  \n",
    "    \n",
    "    # Print yearly totals\n",
    "    print(\"Yearly Cycling Distances:\")\n",
    "    print(\"-----------------------\")\n",
    "    for year in sorted(yearly_distances.keys()):\n",
    "        total_distance = yearly_distances[year]\n",
    "        print(f\"{year}: {total_distance:.2f} km\")\n",
    "    \n",
    "    # Print overall total\n",
    "    total_distance = sum(yearly_distances.values())\n",
    "    print(\"-----------------------\")\n",
    "    print(f\"Total Distance: {total_distance:.2f} km\")\n",
    "else:\n",
    "    print(\"Failed to retrieve activities.\")"
   ]
  },
  {
   "cell_type": "markdown",
   "id": "81be949b",
   "metadata": {},
   "source": []
  },
  {
   "cell_type": "code",
   "execution_count": null,
   "id": "f3a9a9e9",
   "metadata": {},
   "outputs": [],
   "source": []
  }
 ],
 "metadata": {
  "kernelspec": {
   "display_name": "Python 3",
   "language": "python",
   "name": "python3"
  },
  "language_info": {
   "codemirror_mode": {
    "name": "ipython",
    "version": 3
   },
   "file_extension": ".py",
   "mimetype": "text/x-python",
   "name": "python",
   "nbconvert_exporter": "python",
   "pygments_lexer": "ipython3",
   "version": "3.9.6"
  }
 },
 "nbformat": 4,
 "nbformat_minor": 5
}
